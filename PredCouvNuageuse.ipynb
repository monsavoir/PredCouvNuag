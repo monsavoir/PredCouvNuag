{
 "cells": [
  {
   "cell_type": "markdown",
   "metadata": {},
   "source": [
    "Master 2 Bioinformatique, Université Rennes 1\n",
    "\n",
    "Antoine MONSAVOIR\n",
    "Lucas   VINCENT"
   ]
  },
  {
   "cell_type": "markdown",
   "metadata": {},
   "source": [
    "Notre projet de Machine Learning va consister à la prédiction de couverture nuageuse. On dispose ici de données photographiques issues de satellite et présentant la couverture nuageuse en forêt amazonienne. Le but va être de développer un algorithme permettant de classer ces images selon quatres catégories afin d'automatiser la récolte d'informations : <br /> \"Temps dégagé\", \"Couvert\", \"Partiellement couvert\", \"Brouillard\""
   ]
  },
  {
   "cell_type": "markdown",
   "metadata": {},
   "source": [
    "Pour cela nous allons utiliser un cadriciel nommé Pytorch nous permettant d'appliquer des méthodes de traitements et de manipulations utiles à l'apprentissage automatique en python. On va également devoir effectuer du traitement d'image. Pour cela nous allons réaliser des transformations afin de redimensionner les images et de les modifier pour permettre de les incorporer à notre modèle en gardant les features importantes et économiser des ressources computationnelles. Ces images, transformées en tenseurs, vont être traité par un réseau de neurones convolutifs que l'on va nous même définir. Il va s'agir d'une architecture avec 2 couches de convolutions suivi de multiples transformations linéaires. En résultats de ce réseaux va nous être renvoyé un vecteur de longeur 4 correspondant à nos 4 catégories de couverture nuageuse avec 1 en position variant selon la prédiction du programme et des 0 ailleurs."
   ]
  },
  {
   "cell_type": "markdown",
   "metadata": {},
   "source": [
    "# Construction du modèle"
   ]
  },
  {
   "cell_type": "code",
   "execution_count": 1,
   "metadata": {},
   "outputs": [],
   "source": [
    "import numpy as np\n",
    "import pandas as pd\n",
    "from tqdm.notebook import tqdm\n",
    "import matplotlib.pyplot as plt\n",
    "import seaborn as sns\n",
    "import torch\n",
    "import torchvision\n",
    "import torch.nn as nn\n",
    "import torch.optim as optim\n",
    "import torch.nn.functional as F\n",
    "import time\n",
    "from torchsampler import ImbalancedDatasetSampler\n",
    "from torchvision import transforms, utils, datasets, models\n",
    "from torch.utils.data import Dataset, DataLoader, SubsetRandomSampler\n",
    "from sklearn.metrics import classification_report, confusion_matrix"
   ]
  },
  {
   "cell_type": "code",
   "execution_count": 2,
   "metadata": {},
   "outputs": [
    {
     "name": "stdout",
     "output_type": "stream",
     "text": [
      "We're using => cuda\n",
      "The data lies here => ./\n"
     ]
    }
   ],
   "source": [
    "device = torch.device(\"cuda\" if torch.cuda.is_available() else \"cpu\")\n",
    "print(\"We're using =>\", device)\n",
    "root_dir = \"./\"\n",
    "print(\"The data lies here =>\", root_dir)"
   ]
  },
  {
   "cell_type": "markdown",
   "metadata": {},
   "source": [
    "## Importation des données"
   ]
  },
  {
   "cell_type": "code",
   "execution_count": 3,
   "metadata": {},
   "outputs": [
    {
     "name": "stdout",
     "output_type": "stream",
     "text": [
      "['clear', 'cloudy', 'haze', 'partly_cloudy']\n"
     ]
    }
   ],
   "source": [
    "data_dir = './data/train'\n",
    "\n",
    "def load_split_train_test(datadir, valid_size = .2):\n",
    "    \n",
    "    train_transforms = transforms.Compose([transforms.Resize(224),\n",
    "                                           transforms.Grayscale(),\n",
    "                                           transforms.ToTensor(),\n",
    "                                           transforms.Normalize(mean=[0.485],\n",
    "                                            std=[0.229])\n",
    "                                       \n",
    "                                       ])   \n",
    "    test_transforms = transforms.Compose([transforms.Resize(224),\n",
    "                                          transforms.Grayscale(),\n",
    "                                          transforms.ToTensor(),\n",
    "                                          transforms.Normalize(mean=[0.485],\n",
    "                                            std=[0.229])\n",
    "                                      ])\n",
    "    \n",
    "    train_data = datasets.ImageFolder(datadir,       \n",
    "                    transform=train_transforms)\n",
    "    \n",
    "    test_data = datasets.ImageFolder(datadir,\n",
    "                    transform=test_transforms)\n",
    "    \n",
    "    num_train = len(train_data)\n",
    "    indices = list(range(num_train))\n",
    "    split = int(np.floor(valid_size * num_train))\n",
    "    np.random.shuffle(indices)\n",
    "    from torch.utils.data.sampler import SubsetRandomSampler\n",
    "    train_idx, test_idx = indices[split:], indices[:split]\n",
    "    train_sampler = SubsetRandomSampler(train_idx)\n",
    "    test_sampler = SubsetRandomSampler(test_idx)\n",
    "    \n",
    "    batch_size = 64\n",
    "    class_sample_count = [255908, 18821, 24293, 65369] # dataset has 10 class-1 samples, 1 class-2 samples, etc.\n",
    "    weights = 1 / torch.Tensor(class_sample_count)\n",
    "    weights = weights.double()\n",
    "    sampler = torch.utils.data.sampler.WeightedRandomSampler(weights, batch_size)\n",
    "    trainloader = torch.utils.data.DataLoader(train_data, batch_size = 64,\n",
    "                                              sampler = ImbalancedDatasetSampler(train_data))\n",
    "    \n",
    "    testloader = torch.utils.data.DataLoader(test_data,\n",
    "                   sampler=test_sampler, batch_size=64)\n",
    "    return trainloader, testloader\n",
    "\n",
    "trainloader, testloader = load_split_train_test(data_dir, .2)\n",
    "\n",
    "print(trainloader.dataset.classes)"
   ]
  },
  {
   "cell_type": "markdown",
   "metadata": {},
   "source": [
    "## Architecture du modèle"
   ]
  },
  {
   "cell_type": "code",
   "execution_count": 4,
   "metadata": {},
   "outputs": [
    {
     "name": "stdout",
     "output_type": "stream",
     "text": [
      "ModeleConv2D(\n",
      "  (conv1): Conv2d(1, 16, kernel_size=(7, 7), stride=(2, 2), padding=(3, 3))\n",
      "  (relu1): ReLU()\n",
      "  (pool1): MaxPool2d(kernel_size=2, stride=2, padding=0, dilation=1, ceil_mode=False)\n",
      "  (conv2): Conv2d(16, 64, kernel_size=(7, 7), stride=(2, 2), padding=(3, 3))\n",
      "  (relu2): ReLU()\n",
      "  (pool2): MaxPool2d(kernel_size=2, stride=2, padding=0, dilation=1, ceil_mode=False)\n",
      "  (fc1): Linear(in_features=12544, out_features=120, bias=True)\n",
      "  (fc2): Linear(in_features=120, out_features=60, bias=True)\n",
      "  (out): Linear(in_features=60, out_features=4, bias=True)\n",
      ")\n"
     ]
    }
   ],
   "source": [
    "class ModeleConv2D(nn.Module):\n",
    "\n",
    "    def __init__(self):\n",
    "        super(ModeleConv2D, self).__init__()\n",
    "        # 1 input image channel, 6 output channels, 7x7 square convolution\n",
    "        # kernel   \n",
    "\n",
    "        self.conv1 = nn.Conv2d(in_channels=1, out_channels=16, kernel_size=7, stride=2, padding=3)\n",
    "        self.relu1 = nn.ReLU()\n",
    "        self.pool1 = nn.MaxPool2d(2, 2)\n",
    "        self.conv2 = nn.Conv2d(in_channels=16, out_channels=64, kernel_size=7, stride=2, padding=3)\n",
    "        self.relu2 = nn.ReLU()\n",
    "        self.pool2 = nn.MaxPool2d(2, 2)\n",
    "        self.fc1 = nn.Linear(in_features=1*112*112, out_features=120)\n",
    "        self.fc2 = nn.Linear(in_features=120, out_features=60)\n",
    "        self.out = nn.Linear(in_features=60, out_features=4)\n",
    "        \n",
    "    def forward(self, t):\n",
    "        # (1)input layer\n",
    "        t = t \n",
    "        # (2) hidden conv layer\n",
    "        t = self.conv1(t)\n",
    "        t = F.relu(t)\n",
    "        t = F.max_pool2d(t, kernel_size=2, stride=2)\n",
    "        \n",
    "        # (3) hidden conv layer\n",
    "        t = self.conv2(t)\n",
    "        t = F.relu(t)\n",
    "        t = F.max_pool2d(t, kernel_size=2, stride=2)\n",
    "    \n",
    "        # (4) hidden linear layer\n",
    "        t = t.reshape(-1, self.num_flat_features(t))\n",
    "        t = self.fc1(t)\n",
    "        t = F.relu(t)\n",
    "\n",
    "        # (5) hidden linear layer\n",
    "        t = self.fc2(t)\n",
    "        t = F.relu(t)\n",
    "        # (6) output layer\n",
    "        t = self.out(t)\n",
    "        return t\n",
    "\n",
    "    def num_flat_features(self, x):\n",
    "        size = x.size()[1:]  # all dimensions except the batch dimension\n",
    "        num_features = 1\n",
    "        for s in size:\n",
    "            num_features *= s\n",
    "        return num_features\n",
    "\n",
    "\n",
    "model = ModeleConv2D()\n",
    "\n",
    "print(model)"
   ]
  },
  {
   "cell_type": "code",
   "execution_count": 6,
   "metadata": {},
   "outputs": [],
   "source": [
    "criterion = nn.CrossEntropyLoss()\n",
    "#criterion = nn.NLLLoss()\n",
    "\n",
    "if torch.cuda.is_available():\n",
    "    model = model.cuda()\n",
    "    criterion = criterion.cuda()\n",
    "\n",
    "#optimizer = optim.SGD(model.parameters(), lr=0.1, momentum=0.9)\n",
    "optimizer = optim.Adam(model.parameters(), lr=0.0001)"
   ]
  },
  {
   "cell_type": "markdown",
   "metadata": {},
   "source": [
    "# Apprentissage"
   ]
  },
  {
   "cell_type": "code",
   "execution_count": 7,
   "metadata": {
    "scrolled": false
   },
   "outputs": [
    {
     "name": "stdout",
     "output_type": "stream",
     "text": [
      "Epoch: 1/50..  Training Loss: 0.815..  Test Loss: 0.659..  Test Accuracy: 0.743 --- 139.11598086357117 seconds ---\n",
      "Epoch: 2/50..  Training Loss: 0.712..  Test Loss: 0.745..  Test Accuracy: 0.728 --- 137.5310182571411 seconds ---\n",
      "Epoch: 3/50..  Training Loss: 0.646..  Test Loss: 0.545..  Test Accuracy: 0.804 --- 141.261479139328 seconds ---\n",
      "Epoch: 4/50..  Training Loss: 0.595..  Test Loss: 0.630..  Test Accuracy: 0.772 --- 141.28135919570923 seconds ---\n",
      "Epoch: 5/50..  Training Loss: 0.571..  Test Loss: 0.560..  Test Accuracy: 0.793 --- 139.16113448143005 seconds ---\n",
      "Epoch: 6/50..  Training Loss: 0.541..  Test Loss: 0.511..  Test Accuracy: 0.808 --- 138.30151796340942 seconds ---\n",
      "Epoch: 7/50..  Training Loss: 0.525..  Test Loss: 0.559..  Test Accuracy: 0.786 --- 140.179185628891 seconds ---\n",
      "Epoch: 8/50..  Training Loss: 0.506..  Test Loss: 0.526..  Test Accuracy: 0.798 --- 139.15124535560608 seconds ---\n",
      "Epoch: 9/50..  Training Loss: 0.467..  Test Loss: 0.550..  Test Accuracy: 0.786 --- 139.10958981513977 seconds ---\n",
      "Epoch: 10/50..  Training Loss: 0.449..  Test Loss: 0.516..  Test Accuracy: 0.795 --- 137.17296433448792 seconds ---\n",
      "Epoch: 11/50..  Training Loss: 0.433..  Test Loss: 0.499..  Test Accuracy: 0.805 --- 137.64701294898987 seconds ---\n",
      "Epoch: 12/50..  Training Loss: 0.418..  Test Loss: 0.445..  Test Accuracy: 0.813 --- 151.92738461494446 seconds ---\n",
      "Epoch: 13/50..  Training Loss: 0.402..  Test Loss: 0.416..  Test Accuracy: 0.828 --- 171.0623733997345 seconds ---\n",
      "Epoch: 14/50..  Training Loss: 0.386..  Test Loss: 0.347..  Test Accuracy: 0.873 --- 161.11879992485046 seconds ---\n",
      "Epoch: 15/50..  Training Loss: 0.369..  Test Loss: 0.455..  Test Accuracy: 0.815 --- 158.4741461277008 seconds ---\n",
      "Epoch: 16/50..  Training Loss: 0.347..  Test Loss: 0.394..  Test Accuracy: 0.846 --- 146.48459839820862 seconds ---\n",
      "Epoch: 17/50..  Training Loss: 0.338..  Test Loss: 0.354..  Test Accuracy: 0.863 --- 148.19490599632263 seconds ---\n",
      "Epoch: 18/50..  Training Loss: 0.324..  Test Loss: 0.319..  Test Accuracy: 0.877 --- 157.92669796943665 seconds ---\n",
      "Epoch: 19/50..  Training Loss: 0.305..  Test Loss: 0.446..  Test Accuracy: 0.827 --- 156.23324370384216 seconds ---\n",
      "Epoch: 20/50..  Training Loss: 0.299..  Test Loss: 0.294..  Test Accuracy: 0.889 --- 148.95577549934387 seconds ---\n",
      "Epoch: 21/50..  Training Loss: 0.281..  Test Loss: 0.364..  Test Accuracy: 0.852 --- 144.96157455444336 seconds ---\n",
      "Epoch: 22/50..  Training Loss: 0.268..  Test Loss: 0.267..  Test Accuracy: 0.902 --- 144.6085708141327 seconds ---\n",
      "Epoch: 23/50..  Training Loss: 0.257..  Test Loss: 0.300..  Test Accuracy: 0.881 --- 144.16267943382263 seconds ---\n",
      "Epoch: 24/50..  Training Loss: 0.248..  Test Loss: 0.321..  Test Accuracy: 0.876 --- 142.2064905166626 seconds ---\n",
      "Epoch: 25/50..  Training Loss: 0.237..  Test Loss: 0.264..  Test Accuracy: 0.905 --- 143.47387552261353 seconds ---\n",
      "Epoch: 26/50..  Training Loss: 0.233..  Test Loss: 0.389..  Test Accuracy: 0.844 --- 146.25341534614563 seconds ---\n",
      "Epoch: 27/50..  Training Loss: 0.225..  Test Loss: 0.249..  Test Accuracy: 0.907 --- 142.78970408439636 seconds ---\n",
      "Epoch: 28/50..  Training Loss: 0.211..  Test Loss: 0.218..  Test Accuracy: 0.916 --- 143.2631893157959 seconds ---\n",
      "Epoch: 29/50..  Training Loss: 0.199..  Test Loss: 0.270..  Test Accuracy: 0.900 --- 144.835711479187 seconds ---\n",
      "Epoch: 30/50..  Training Loss: 0.197..  Test Loss: 0.225..  Test Accuracy: 0.917 --- 143.35597825050354 seconds ---\n",
      "Epoch: 31/50..  Training Loss: 0.183..  Test Loss: 0.221..  Test Accuracy: 0.919 --- 142.27919960021973 seconds ---\n",
      "Epoch: 32/50..  Training Loss: 0.178..  Test Loss: 0.226..  Test Accuracy: 0.915 --- 143.35985112190247 seconds ---\n",
      "Epoch: 33/50..  Training Loss: 0.171..  Test Loss: 0.232..  Test Accuracy: 0.918 --- 143.308447599411 seconds ---\n",
      "Epoch: 34/50..  Training Loss: 0.160..  Test Loss: 0.193..  Test Accuracy: 0.928 --- 142.86360931396484 seconds ---\n",
      "Epoch: 35/50..  Training Loss: 0.155..  Test Loss: 0.171..  Test Accuracy: 0.937 --- 144.5741901397705 seconds ---\n",
      "Epoch: 36/50..  Training Loss: 0.148..  Test Loss: 0.187..  Test Accuracy: 0.931 --- 145.00618481636047 seconds ---\n",
      "Epoch: 37/50..  Training Loss: 0.137..  Test Loss: 0.192..  Test Accuracy: 0.925 --- 145.2471125125885 seconds ---\n",
      "Epoch: 38/50..  Training Loss: 0.140..  Test Loss: 0.175..  Test Accuracy: 0.937 --- 145.27739310264587 seconds ---\n",
      "Epoch: 39/50..  Training Loss: 0.132..  Test Loss: 0.157..  Test Accuracy: 0.942 --- 146.6505217552185 seconds ---\n",
      "Epoch: 40/50..  Training Loss: 0.121..  Test Loss: 0.137..  Test Accuracy: 0.947 --- 155.50261092185974 seconds ---\n",
      "Epoch: 41/50..  Training Loss: 0.118..  Test Loss: 0.208..  Test Accuracy: 0.927 --- 148.16682863235474 seconds ---\n",
      "Epoch: 42/50..  Training Loss: 0.120..  Test Loss: 0.148..  Test Accuracy: 0.944 --- 148.45280933380127 seconds ---\n",
      "Epoch: 43/50..  Training Loss: 0.107..  Test Loss: 0.148..  Test Accuracy: 0.944 --- 149.76752066612244 seconds ---\n",
      "Epoch: 44/50..  Training Loss: 0.106..  Test Loss: 0.117..  Test Accuracy: 0.959 --- 148.6577217578888 seconds ---\n",
      "Epoch: 45/50..  Training Loss: 0.098..  Test Loss: 0.129..  Test Accuracy: 0.955 --- 148.5446858406067 seconds ---\n",
      "Epoch: 46/50..  Training Loss: 0.101..  Test Loss: 0.181..  Test Accuracy: 0.940 --- 149.2170102596283 seconds ---\n",
      "Epoch: 47/50..  Training Loss: 0.091..  Test Loss: 0.137..  Test Accuracy: 0.948 --- 149.9025011062622 seconds ---\n",
      "Epoch: 48/50..  Training Loss: 0.084..  Test Loss: 0.109..  Test Accuracy: 0.958 --- 153.69062399864197 seconds ---\n",
      "Epoch: 49/50..  Training Loss: 0.083..  Test Loss: 0.119..  Test Accuracy: 0.957 --- 152.6184163093567 seconds ---\n",
      "Epoch: 50/50..  Training Loss: 0.078..  Test Loss: 0.102..  Test Accuracy: 0.963 --- 153.87331295013428 seconds ---\n",
      "Total time: 7327.1980884075165 seconds\n"
     ]
    }
   ],
   "source": [
    "epochs = 50\n",
    "steps = 1\n",
    "running_loss = 0\n",
    "print_every = 10\n",
    "train_losses, test_losses = [], []\n",
    "acc_hist = []\n",
    "\n",
    "start_time = time.time()\n",
    "\n",
    "for e in range(epochs):\n",
    "    medium_time = time.time()\n",
    "    train_loss = 0\n",
    "    test_loss = 0\n",
    "    accuracy = 0\n",
    "\n",
    "    for images, labels in trainloader:\n",
    "        \n",
    "        images, labels = images.to(device), labels.to(device)\n",
    "        optimizer.zero_grad()\n",
    "        logits = model(images) #output \n",
    "        loss = criterion(logits, labels)\n",
    "        train_loss += loss.item()\n",
    "        loss.backward()\n",
    "        optimizer.step()\n",
    "\n",
    "    else:\n",
    "        with torch.no_grad():\n",
    "            imagesList = []\n",
    "            labelsList = []\n",
    "            model.eval()\n",
    "            for images,labels in testloader:\n",
    "                \n",
    "                images, labels = images.to(device), labels.to(device)\n",
    "                logits = model(images)\n",
    "                output = logits.argmax(dim=-1)\n",
    "                labelsList.extend(labels.cpu().detach().numpy().tolist())\n",
    "                imagesList.extend(output.cpu().detach().numpy().tolist())\n",
    "                equals = (labels == output)\n",
    "                accuracy += equals.to(torch.float).mean()\n",
    "                test_loss += criterion(logits, labels)\n",
    "        model.train()\n",
    "    print(\"Epoch: {}/{}.. \".format(e+1, epochs),\n",
    "              \"Training Loss: {:.3f}.. \".format(train_loss/len(trainloader)),\n",
    "              \"Test Loss: {:.3f}.. \".format(test_loss/len(testloader)),\n",
    "              \"Test Accuracy: {:.3f}\".format(accuracy/len(testloader)),\n",
    "              \"--- %s seconds ---\" % (time.time() - medium_time))\n",
    "    train_losses.append(train_loss/len(trainloader))\n",
    "    test_losses.append(test_loss/len(testloader))\n",
    "    acc_hist.append(accuracy/len(testloader))\n",
    "    \n",
    "print(\"Total time:\",time.time() - start_time,\"seconds\")"
   ]
  },
  {
   "cell_type": "markdown",
   "metadata": {},
   "source": [
    "# Résultats"
   ]
  },
  {
   "cell_type": "code",
   "execution_count": 8,
   "metadata": {
    "scrolled": true
   },
   "outputs": [
    {
     "data": {
      "image/png": "[encoded data removed]",
      "text/plain": [
       "<Figure size 432x288 with 1 Axes>"
      ]
     },
     "metadata": {
      "needs_background": "light"
     },
     "output_type": "display_data"
    }
   ],
   "source": [
    "plt.plot(train_losses, label='Training loss')\n",
    "plt.plot(test_losses, label='Validation loss')\n",
    "plt.plot(acc_hist, label='Accuracy')\n",
    "plt.legend(frameon=False)\n",
    "plt.show()"
   ]
  },
  {
   "cell_type": "markdown",
   "metadata": {},
   "source": [
    "Cette figure nous indique l'évolution des courbes de valeur de perte ainsi que la précision de nos prédictions. On observe dans le graphe que nos valeurs de perte diminuent tandis que la précision ne cesse de croitre. Cela reflète d'une phase d'apprentissage correcte de notre modèle."
   ]
  },
  {
   "cell_type": "code",
   "execution_count": 9,
   "metadata": {},
   "outputs": [
    {
     "name": "stdout",
     "output_type": "stream",
     "text": [
      "Confusion Matrix \n",
      "\n",
      "[[5429   44  135   49]\n",
      " [   0  425    9    0]\n",
      " [   5   28  542    0]\n",
      " [  28    0    3 1398]] \n",
      "\n",
      "Classification Report \n",
      "\n",
      "               precision    recall  f1-score   support\n",
      "\n",
      "        clear       0.99      0.96      0.98      5657\n",
      "       cloudy       0.86      0.98      0.91       434\n",
      "         haze       0.79      0.94      0.86       575\n",
      "partly cloudy       0.97      0.98      0.97      1429\n",
      "\n",
      "     accuracy                           0.96      8095\n",
      "    macro avg       0.90      0.96      0.93      8095\n",
      " weighted avg       0.97      0.96      0.96      8095\n",
      "\n"
     ]
    }
   ],
   "source": [
    "print(\"Confusion Matrix \\n\")\n",
    "print(confusion_matrix(labelsList, imagesList),\"\\n\")\n",
    "target_names = [\"clear\",\"cloudy\",\"haze\",\"partly cloudy\"]\n",
    "print(\"Classification Report \\n\")\n",
    "print(classification_report(labelsList, imagesList, target_names = target_names))"
   ]
  },
  {
   "cell_type": "markdown",
   "metadata": {},
   "source": [
    "Ces résultats nous présentent des métriques intéressantes à interpréter. Il est important de souligner également que l'on a plus de 5000 photos portant le label \"clear\" tandis que l'on en a 400 pour \"cloudy\" mais ceci pour le jeu de validation. Nous avions au début un jeu de donnée d'entraînement hétérogène. On a dû palier à ce problème grâce à un sampler capable d'oversampler les labels avec peu de données et au contraire d'undersampler les labels surreprésentés. Egalement lorsque l'on se base sur la précision des prédictions on remarque que le label \"clear\" est le plus précis. On peut expliquer ça car on travaille ici sur des photos en noir et blanc. Les nuages sont blancs ainsi une image grise va refléter d'une couverture nuageuse nulle. Le moins précis dans nos résultats est le label \"haze\" correspondant au brouillard. Il peut être difficile à interpréter et lorsque l'on observe la matrice de confusion on observe un bon recall mais avec peu de fiabilité, d'où la mauvaise précision. En effet le brouillard peut être léger et l'image se retrouver dans des teintes de gris clair que notre modèle va considérer comme dégagé."
   ]
  },
  {
   "cell_type": "markdown",
   "metadata": {},
   "source": [
    "# Conclusion"
   ]
  },
  {
   "cell_type": "markdown",
   "metadata": {},
   "source": [
    "Les résultats obtenus démontrent un bon apprentissage de notre modèle. Cependant il reste encore améliorable. Nous avons réalisé un algorithme de prédiction sur des images en noir et blanc dans le but d'économiser des ressources et d'accélérer notre programme. Cela peut poser quelques artefacts notamment sur la prédiction de brouillard sur les photos comme on l'a vu avec le résumé de classification et la matrice de confusion. Il est possible que des images en couleurs (sur 3 channels) puissent palier à ce problème. Egalement il pourrait être intéressant d'effectuer un apprentissage sur une phase plus longue, étant donné que les courbes avaient de bons aspects. Pour finir, il serait interéssant à titre de comparaison de tester différents optimizer comme la méthode de descente de gradient stochastique ou bien d'autres fonctions de perte telle que Negative Log-Likehood Loss."
   ]
  }
 ],
 "metadata": {
  "kernelspec": {
   "display_name": "Python 3",
   "language": "python",
   "name": "python3"
  },
  "language_info": {
   "codemirror_mode": {
    "name": "ipython",
    "version": 3
   },
   "file_extension": ".py",
   "mimetype": "text/x-python",
   "name": "python",
   "nbconvert_exporter": "python",
   "pygments_lexer": "ipython3",
   "version": "3.7.6"
  }
 },
 "nbformat": 4,
 "nbformat_minor": 4
}
